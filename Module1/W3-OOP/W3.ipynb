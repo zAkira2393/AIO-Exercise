{
  "cells": [
    {
      "cell_type": "code",
      "execution_count": null,
      "metadata": {
        "colab": {
          "base_uri": "https://localhost:8080/"
        },
        "id": "wIzuaU-ITBgI",
        "outputId": "3cce9096-c28f-41ca-9d26-39810ace83f1"
      },
      "outputs": [
        {
          "data": {
            "text/plain": [
              "tensor([0., 0., nan])"
            ]
          },
          "execution_count": 46,
          "metadata": {},
          "output_type": "execute_result"
        }
      ],
      "source": [
        "# Python OOP - Excercise\n",
        "# Exercise 1: Create class Softmax and method to activate softmax using pytorch in one dimension\n",
        "import torch\n",
        "import torch.nn as nn\n",
        "\n",
        "class MySoftmax(nn.Module):\n",
        "    def __init__(self):\n",
        "        super().__init__()\n",
        "\n",
        "    def forward(self, x):\n",
        "        x_exp =torch.exp(x)\n",
        "        total = x_exp.sum(0, keepdims =True) # list using tensor in one dimension\n",
        "        return x_exp/total\n",
        "\n",
        "data = torch.Tensor([1, 2, 30])\n",
        "my_softmax = MySoftmax()\n",
        "output = my_softmax(data)\n",
        "output\n"
      ]
    },
    {
      "cell_type": "code",
      "execution_count": null,
      "metadata": {
        "colab": {
          "base_uri": "https://localhost:8080/"
        },
        "id": "OqjC8CsydDIX",
        "outputId": "42e33c33-1341-4f39-99a6-9a5a9fd6bca2"
      },
      "outputs": [
        {
          "data": {
            "text/plain": [
              "tensor([0.0900, 0.2447, 0.6652])"
            ]
          },
          "execution_count": 48,
          "metadata": {},
          "output_type": "execute_result"
        }
      ],
      "source": [
        "#Create class Softmax stable and method to activate softmax stable using pytorch in one dimension\n",
        "import torch\n",
        "import torch.nn as nn\n",
        "\n",
        "class SoftmaxStable(nn.Module):\n",
        "    def __init__(self):\n",
        "        super().__init__()\n",
        "\n",
        "    def forward(self, x):\n",
        "        x_max = torch.max(x, dim = 0, keepdims = True)\n",
        "        x_exp = torch.exp(x - x_max.values)\n",
        "        partition = x_exp.sum(0, keepdims=True)\n",
        "        return x_exp / partition\n",
        "\n",
        "data = torch.Tensor([1, 2, 3])\n",
        "softmax_stable = SoftmaxStable()\n",
        "output = softmax_stable(data)\n",
        "output\n",
        "\n"
      ]
    },
    {
      "cell_type": "code",
      "execution_count": 30,
      "metadata": {
        "id": "KjcXBohmgLro"
      },
      "outputs": [],
      "source": [
        "#Exercise 2:Create class Ward include a list of person (student, doctor or teacher)\n",
        "\n",
        "# Create Person as a Parent class\n",
        "from abc import ABC, abstractmethod\n",
        "\n",
        "class Person(ABC):\n",
        "    def __init__(self, name:str, yob:int):\n",
        "        self._name = name\n",
        "        self._yob = yob\n",
        "\n",
        "    def get_yob(self):\n",
        "        return self._yob\n",
        "\n",
        "    @abstractmethod\n",
        "    def describe(self):\n",
        "        pass\n",
        "\n",
        "# Create Student as a Child class of Person\n",
        "class Student(Person):\n",
        "    def __init__(self, name:str, yob:int, grade:str):\n",
        "        super().__init__(name, yob)\n",
        "        self._grade = grade\n",
        "\n",
        "    def describe(self):\n",
        "        return print(f'Student - Name: {self._name}- YoB:{self._yob}- Grade:{self._grade}')\n",
        "\n",
        "# Create Teacher as a Child class of Person\n",
        "class Teacher(Person):\n",
        "    def __init__(self, name:str, yob:int, subject:str):\n",
        "        super().__init__(name, yob)\n",
        "        self._subject = subject\n",
        "\n",
        "    def describe(self):\n",
        "        return print(f'Teacher - Name: {self._name}- YoB:{self._yob}- Subject:{self._subject}')\n",
        "\n",
        "# Create Doctor as a Child class of Person\n",
        "class Doctor(Person):\n",
        "    def __init__(self, name:str, yob:int, specialist:str):\n",
        "        super().__init__(name, yob)\n",
        "        self._specialist = specialist\n",
        "\n",
        "    def describe(self):\n",
        "        return print(f'Doctor - Name: {self._name}- YoB:{self._yob}- Specialist:{self._specialist}')\n",
        "\n",
        "# Create class Ward to store all the person in a list of people\n",
        "class Ward:\n",
        "    def __init__(self, name:str):\n",
        "        self.__name = name\n",
        "        self.__listPeople = list()\n",
        "\n",
        "# Add new person to the list\n",
        "    def add_person(self, person:Person):\n",
        "        self.__listPeople.append(person)\n",
        "\n",
        "    def describe(self):\n",
        "        print(f'Ward Name: {self.__name}')\n",
        "        for p in self.__listPeople:\n",
        "            p.describe()\n",
        "\n",
        "# Count how many class Doctor in the list\n",
        "    def count_doctor(self):\n",
        "        counter = 0\n",
        "        for p in self.__listPeople:\n",
        "            if isinstance(p, Doctor): #if type(p) is Doctor\n",
        "              counter += 1\n",
        "        return counter\n",
        "\n",
        "# Sorting the list of people in Ward base on yob\n",
        "    def sort_yob(self):\n",
        "        self.__listPeople.sort(key=lambda x: x.get_yob())\n",
        "\n",
        "# Calculate an average of yob of class Teacher in the list of people\n",
        "    def compute_average(self):\n",
        "        counter = 0\n",
        "        total_year = 0\n",
        "        for p in self.__listPeople:\n",
        "            if isinstance(p, Teacher):\n",
        "                counter += 1\n",
        "                total_year += p.get_yob()\n",
        "        return total_year/counter\n"
      ]
    },
    {
      "cell_type": "code",
      "execution_count": 31,
      "metadata": {
        "colab": {
          "base_uri": "https://localhost:8080/"
        },
        "id": "oUIs-3J4iFao",
        "outputId": "bfb12f07-627c-42d7-bcec-cf1b05dc6249"
      },
      "outputs": [
        {
          "name": "stdout",
          "output_type": "stream",
          "text": [
            "Student - Name: studentA- YoB:2010- Grade:7\n",
            "Teacher - Name: teacherA- YoB:1969- Subject:Math\n",
            "Doctor - Name: doctorA- YoB:1945- Specialist:Endocrinologists\n",
            "Ward Name: Ward1\n",
            "Student - Name: studentA- YoB:2010- Grade:7\n",
            "Teacher - Name: teacherA- YoB:1969- Subject:Math\n",
            "Teacher - Name: teacherB- YoB:1995- Subject: History\n",
            "Doctor - Name: doctorA- YoB:1945- Specialist:Endocrinologists\n",
            "Doctor - Name: doctorB- YoB:1975- Specialist:Cardiologists\n",
            "\n",
            "Number of doctors : 2\n",
            "\n",
            "After sorting Age of Ward1 People\n",
            "Ward Name: Ward1\n",
            "Doctor - Name: doctorA- YoB:1945- Specialist:Endocrinologists\n",
            "Teacher - Name: teacherA- YoB:1969- Subject:Math\n",
            "Doctor - Name: doctorB- YoB:1975- Specialist:Cardiologists\n",
            "Teacher - Name: teacherB- YoB:1995- Subject: History\n",
            "Student - Name: studentA- YoB:2010- Grade:7\n",
            "\n",
            "Average year of birth (teachers): 1982.0\n"
          ]
        }
      ],
      "source": [
        "# Test cases\n",
        "# 2(a)\n",
        "student1 = Student ( name =\"studentA\", yob =2010 , grade =\"7\")\n",
        "student1.describe()\n",
        "\n",
        "teacher1 = Teacher ( name =\"teacherA\", yob =1969 , subject =\"Math\")\n",
        "teacher1.describe()\n",
        "\n",
        "doctor1 = Doctor ( name =\"doctorA\", yob =1945 , specialist =\"Endocrinologists\")\n",
        "doctor1.describe()\n",
        "\n",
        "# 2(b)\n",
        "teacher2 = Teacher ( name =\"teacherB\", yob =1995 , subject =\" History\")\n",
        "doctor2 = Doctor ( name =\"doctorB\", yob =1975 , specialist =\"Cardiologists\")\n",
        "ward1 = Ward(name=\"Ward1\")\n",
        "ward1.add_person(student1)\n",
        "ward1.add_person(teacher1)\n",
        "ward1.add_person(teacher2)\n",
        "ward1.add_person(doctor1)\n",
        "ward1.add_person(doctor2)\n",
        "ward1.describe()\n",
        "\n",
        "#2(c)\n",
        "print(f'\\nNumber of doctors : {ward1.count_doctor()}')\n",
        "\n",
        "#2(d)\n",
        "print(\"\\nAfter sorting Age of Ward1 People\")\n",
        "ward1.sort_yob()\n",
        "ward1.describe()\n",
        "\n",
        "#2(e)\n",
        "print(f\"\\nAverage year of birth (teachers): {ward1.compute_average()}\")"
      ]
    },
    {
      "cell_type": "code",
      "execution_count": 40,
      "metadata": {
        "colab": {
          "base_uri": "https://localhost:8080/"
        },
        "id": "tiX4e0gTmd7i",
        "outputId": "11911f99-bcdb-4703-be28-cbebfa4463ad"
      },
      "outputs": [
        {
          "name": "stdout",
          "output_type": "stream",
          "text": [
            "False\n",
            "2\n",
            "2\n",
            "1\n",
            "1\n",
            "True\n"
          ]
        }
      ],
      "source": [
        "#Exercise 3: Build class Stack with several methods ( .pop(), .push() , .top())\n",
        "class MyStack:\n",
        "    def __init__(self, capacity):\n",
        "        self.__capacity = capacity\n",
        "        self.__stack = []\n",
        "\n",
        "    def is_empty(self):\n",
        "        return len(self.__stack) == 0\n",
        "\n",
        "    def is_full(self):\n",
        "        return len(self.__stack) == self.__capacity\n",
        "\n",
        "    def pop(self):\n",
        "          if self.is_empty():\n",
        "              raise Exception('Underflow')\n",
        "          return self.__stack.pop()\n",
        "\n",
        "    def push(self, value):\n",
        "        if self.is_full():\n",
        "            raise Exception('Overflow')\n",
        "\n",
        "        self.__stack.append(value)\n",
        "\n",
        "    def top(self):\n",
        "        if self.is_empty:\n",
        "          return (self.__stack[-1])\n",
        "\n",
        "#Test Cases\n",
        "stack1 = MyStack(capacity = 5)\n",
        "stack1.push(1)\n",
        "stack1.push(2)\n",
        "\n",
        "\n",
        "print(stack1.is_full())\n",
        "\n",
        "print(stack1.top())\n",
        "\n",
        "print(stack1.pop())\n",
        "\n",
        "print(stack1.top())\n",
        "\n",
        "print(stack1.pop())\n",
        "\n",
        "print(stack1.is_empty())\n",
        "\n"
      ]
    },
    {
      "cell_type": "code",
      "execution_count": 42,
      "metadata": {
        "colab": {
          "base_uri": "https://localhost:8080/"
        },
        "id": "1epGbi81y5kr",
        "outputId": "61a8181b-1b45-4a0a-9940-878180157997"
      },
      "outputs": [
        {
          "name": "stdout",
          "output_type": "stream",
          "text": [
            "False\n",
            "1\n",
            "1\n",
            "2\n",
            "2\n",
            "True\n"
          ]
        }
      ],
      "source": [
        "#Exercise 4: Build class queue with several methods ( .dequeue(), .enqueue() , .front())\n",
        "class MyQueue:\n",
        "    def __init__(self, capacity):\n",
        "        self.__capacity = capacity\n",
        "        self.__queue = []\n",
        "\n",
        "    def is_empty(self):\n",
        "        return len(self.__queue) == 0\n",
        "\n",
        "    def is_full(self):\n",
        "        return len(self.__queue) == self.__capacity\n",
        "\n",
        "    def dequeue(self):\n",
        "        if self.is_empty():\n",
        "            raise Exception('Underflow')\n",
        "        return self.__queue.pop(0)\n",
        "\n",
        "\n",
        "    def enqueue(self, value):\n",
        "        if self.is_full():\n",
        "            raise Exception('OverFlow')\n",
        "        self.__queue.append(value)\n",
        "\n",
        "    def front(self):\n",
        "        if self.is_empty():\n",
        "            print(\"Queue is empty\")\n",
        "        return self.__queue[0]\n",
        "\n",
        "    def describe(self):\n",
        "        for value in self.__queue:\n",
        "          print(value)\n",
        "\n",
        "# Test Cases\n",
        "queue1 = MyQueue(capacity=5)\n",
        "\n",
        "queue1.enqueue(1)\n",
        "\n",
        "queue1.enqueue(2)\n",
        "\n",
        "print(queue1.is_full())\n",
        "\n",
        "print(queue1.front())\n",
        "\n",
        "print(queue1.dequeue())\n",
        "\n",
        "print(queue1.front())\n",
        "\n",
        "print(queue1.dequeue())\n",
        "\n",
        "print(queue1.is_empty())\n",
        "\n",
        "\n",
        "\n"
      ]
    }
  ],
  "metadata": {
    "colab": {
      "provenance": []
    },
    "kernelspec": {
      "display_name": "Python 3",
      "name": "python3"
    },
    "language_info": {
      "name": "python"
    }
  },
  "nbformat": 4,
  "nbformat_minor": 0
}
